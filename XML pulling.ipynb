{
 "cells": [
  {
   "cell_type": "markdown",
   "metadata": {},
   "source": [
    "# XML example and exercise\n",
    "****\n",
    "+ study examples of accessing nodes in XML tree structure  \n",
    "+ work on exercise to be completed and submitted\n",
    "****\n",
    "+ reference: https://docs.python.org/2.7/library/xml.etree.elementtree.html\n",
    "+ data source: http://www.dbis.informatik.uni-goettingen.de/Mondial\n",
    "****"
   ]
  },
  {
   "cell_type": "code",
   "execution_count": 4,
   "metadata": {
    "collapsed": false
   },
   "outputs": [
    {
     "name": "stdout",
     "output_type": "stream",
     "text": [
      "Populating the interactive namespace from numpy and matplotlib\n"
     ]
    }
   ],
   "source": [
    "from xml.etree import ElementTree as ET\n",
    "import pandas as pd\n",
    "%pylab inline"
   ]
  },
  {
   "cell_type": "markdown",
   "metadata": {},
   "source": [
    "## XML example\n",
    "\n",
    "+ for details about tree traversal and iterators, see https://docs.python.org/2.7/library/xml.etree.elementtree.html"
   ]
  },
  {
   "cell_type": "code",
   "execution_count": 5,
   "metadata": {
    "collapsed": false
   },
   "outputs": [],
   "source": [
    "doc = ET.parse( 'mondial_database.xml' )\n",
    "document_tree1 = ET.parse('mondial_database.xml')"
   ]
  },
  {
   "cell_type": "code",
   "execution_count": null,
   "metadata": {
    "collapsed": false
   },
   "outputs": [],
   "source": [
    "# print names of all countries\n",
    "for child in document_tree.getroot():\n",
    "    print child.find('name').text"
   ]
  },
  {
   "cell_type": "code",
   "execution_count": null,
   "metadata": {
    "collapsed": false
   },
   "outputs": [],
   "source": [
    "for child in document_tree1.getroot():\n",
    "    print child.find('name').text"
   ]
  },
  {
   "cell_type": "code",
   "execution_count": null,
   "metadata": {
    "collapsed": false
   },
   "outputs": [],
   "source": [
    "# print names of all countries and their cities\n",
    "for element in document_tree.iterfind('country'):\n",
    "    print '* ' + element.find('name').text + ':',\n",
    "    capitals_string = ''\n",
    "    for subelement in element.getiterator('city'):\n",
    "        capitals_string += subelement.find('name').text + ', '\n",
    "    print capitals_string[:-2]"
   ]
  },
  {
   "cell_type": "code",
   "execution_count": null,
   "metadata": {
    "collapsed": false
   },
   "outputs": [],
   "source": [
    "for element in document_tree1.iterfind('country'):\n",
    "    print '* ' + element.find('name').text + ':',\n",
    "    capitals_string = '' \n",
    "    for subelement in element.getiterator('city'):\n",
    "        capitals_string += subelement.find('name').text + ', '\n",
    "    print capitals_string[:-2]"
   ]
  },
  {
   "cell_type": "markdown",
   "metadata": {},
   "source": [
    "****\n",
    "## XML exercise\n",
    "\n",
    "Using data in 'data/mondial_database.xml', the examples above, and refering to https://docs.python.org/2.7/library/xml.etree.elementtree.html, find\n",
    "\n",
    "1. 10 countries with the lowest infant mortality rates\n",
    "2. 10 cities with the largest population\n",
    "3. 10 ethnic groups with the largest overall populations (sum of best/latest estimates over all countries)\n",
    "4. name and country of a) longest river, b) largest lake and c) airport at highest elevation"
   ]
  },
  {
   "cell_type": "markdown",
   "metadata": {},
   "source": [
    "## Number 1"
   ]
  },
  {
   "cell_type": "code",
   "execution_count": 28,
   "metadata": {
    "collapsed": false
   },
   "outputs": [
    {
     "data": {
      "text/html": [
       "<div>\n",
       "<table border=\"1\" class=\"dataframe\">\n",
       "  <thead>\n",
       "    <tr style=\"text-align: right;\">\n",
       "      <th></th>\n",
       "      <th>country</th>\n",
       "      <th>infant_mortality</th>\n",
       "    </tr>\n",
       "  </thead>\n",
       "  <tbody>\n",
       "    <tr>\n",
       "      <th>36</th>\n",
       "      <td>Monaco</td>\n",
       "      <td>1.81</td>\n",
       "    </tr>\n",
       "    <tr>\n",
       "      <th>90</th>\n",
       "      <td>Japan</td>\n",
       "      <td>2.13</td>\n",
       "    </tr>\n",
       "    <tr>\n",
       "      <th>109</th>\n",
       "      <td>Bermuda</td>\n",
       "      <td>2.48</td>\n",
       "    </tr>\n",
       "    <tr>\n",
       "      <th>34</th>\n",
       "      <td>Norway</td>\n",
       "      <td>2.48</td>\n",
       "    </tr>\n",
       "    <tr>\n",
       "      <th>98</th>\n",
       "      <td>Singapore</td>\n",
       "      <td>2.53</td>\n",
       "    </tr>\n",
       "    <tr>\n",
       "      <th>35</th>\n",
       "      <td>Sweden</td>\n",
       "      <td>2.60</td>\n",
       "    </tr>\n",
       "    <tr>\n",
       "      <th>8</th>\n",
       "      <td>Czech Republic</td>\n",
       "      <td>2.63</td>\n",
       "    </tr>\n",
       "    <tr>\n",
       "      <th>72</th>\n",
       "      <td>Hong Kong</td>\n",
       "      <td>2.73</td>\n",
       "    </tr>\n",
       "    <tr>\n",
       "      <th>73</th>\n",
       "      <td>Macao</td>\n",
       "      <td>3.13</td>\n",
       "    </tr>\n",
       "    <tr>\n",
       "      <th>39</th>\n",
       "      <td>Iceland</td>\n",
       "      <td>3.15</td>\n",
       "    </tr>\n",
       "  </tbody>\n",
       "</table>\n",
       "</div>"
      ],
      "text/plain": [
       "            country  infant_mortality\n",
       "36           Monaco              1.81\n",
       "90            Japan              2.13\n",
       "109         Bermuda              2.48\n",
       "34           Norway              2.48\n",
       "98        Singapore              2.53\n",
       "35           Sweden              2.60\n",
       "8    Czech Republic              2.63\n",
       "72        Hong Kong              2.73\n",
       "73            Macao              3.13\n",
       "39          Iceland              3.15"
      ]
     },
     "execution_count": 28,
     "metadata": {},
     "output_type": "execute_result"
    }
   ],
   "source": [
    "doc = ET.parse( 'mondial_database.xml' )\n",
    "# create empty DF with desired column names\n",
    "df_IM = pd.DataFrame(columns=['country', 'infant_mortality'])\n",
    "\n",
    "#iterate through each country\n",
    "for country in doc.getiterator('country'):\n",
    "    #within each country, iterate through the various children of the country branch\n",
    "    for element in list(country):\n",
    "        if element.tag == 'infant_mortality':\n",
    "            #append the country and paired IM to our dataframe\n",
    "            df_IM = df_IM.append({\n",
    "                'country': country.find('name').text,\n",
    "                'infant_mortality': element.text,\n",
    "            }, ignore_index=True)\n",
    "\n",
    "#make numeric so we can sort\n",
    "df_IM.infant_mortality = pd.to_numeric(df_IM.infant_mortality)           \n",
    "#show top 10\n",
    "df_IM.sort_values('infant_mortality').head(10)\n"
   ]
  },
  {
   "cell_type": "markdown",
   "metadata": {},
   "source": [
    "## Number 2"
   ]
  },
  {
   "cell_type": "code",
   "execution_count": 36,
   "metadata": {
    "collapsed": false
   },
   "outputs": [
    {
     "data": {
      "text/html": [
       "<div>\n",
       "<table border=\"1\" class=\"dataframe\">\n",
       "  <thead>\n",
       "    <tr style=\"text-align: right;\">\n",
       "      <th></th>\n",
       "      <th>country</th>\n",
       "      <th>population</th>\n",
       "      <th>year</th>\n",
       "    </tr>\n",
       "  </thead>\n",
       "  <tbody>\n",
       "    <tr>\n",
       "      <th>578</th>\n",
       "      <td>China</td>\n",
       "      <td>1360720000</td>\n",
       "      <td>2013</td>\n",
       "    </tr>\n",
       "    <tr>\n",
       "      <th>688</th>\n",
       "      <td>India</td>\n",
       "      <td>1210854977</td>\n",
       "      <td>2011</td>\n",
       "    </tr>\n",
       "    <tr>\n",
       "      <th>1155</th>\n",
       "      <td>United States</td>\n",
       "      <td>318857056</td>\n",
       "      <td>2014</td>\n",
       "    </tr>\n",
       "    <tr>\n",
       "      <th>854</th>\n",
       "      <td>Indonesia</td>\n",
       "      <td>252124458</td>\n",
       "      <td>2014</td>\n",
       "    </tr>\n",
       "    <tr>\n",
       "      <th>1652</th>\n",
       "      <td>Brazil</td>\n",
       "      <td>202768562</td>\n",
       "      <td>2014</td>\n",
       "    </tr>\n",
       "    <tr>\n",
       "      <th>595</th>\n",
       "      <td>Pakistan</td>\n",
       "      <td>173149306</td>\n",
       "      <td>2010</td>\n",
       "    </tr>\n",
       "    <tr>\n",
       "      <th>1858</th>\n",
       "      <td>Nigeria</td>\n",
       "      <td>164294516</td>\n",
       "      <td>2011</td>\n",
       "    </tr>\n",
       "    <tr>\n",
       "      <th>665</th>\n",
       "      <td>Bangladesh</td>\n",
       "      <td>149772364</td>\n",
       "      <td>2011</td>\n",
       "    </tr>\n",
       "    <tr>\n",
       "      <th>225</th>\n",
       "      <td>Russia</td>\n",
       "      <td>148178487</td>\n",
       "      <td>1997</td>\n",
       "    </tr>\n",
       "    <tr>\n",
       "      <th>930</th>\n",
       "      <td>Japan</td>\n",
       "      <td>128057352</td>\n",
       "      <td>2010</td>\n",
       "    </tr>\n",
       "  </tbody>\n",
       "</table>\n",
       "</div>"
      ],
      "text/plain": [
       "            country  population  year\n",
       "578           China  1360720000  2013\n",
       "688           India  1210854977  2011\n",
       "1155  United States   318857056  2014\n",
       "854       Indonesia   252124458  2014\n",
       "1652         Brazil   202768562  2014\n",
       "595        Pakistan   173149306  2010\n",
       "1858        Nigeria   164294516  2011\n",
       "665      Bangladesh   149772364  2011\n",
       "225          Russia   148178487  1997\n",
       "930           Japan   128057352  2010"
      ]
     },
     "execution_count": 36,
     "metadata": {},
     "output_type": "execute_result"
    }
   ],
   "source": [
    "#bring in data\n",
    "doc = ET.parse( 'mondial_database.xml' )\n",
    "#make a dataframe for population\n",
    "df_pop = pd.DataFrame(columns=['country', 'population', 'year'])\n",
    "\n",
    "#repeat same process as above, but this time we pull population and year of observation\n",
    "for country in doc.getiterator('country'):\n",
    "    for element in list(country):\n",
    "        if element.tag == 'population':\n",
    "            df_pop = df_pop.append({\n",
    "                'country': country.find('name').text,\n",
    "                'population': element.text,\n",
    "                'year': element.attrib['year']\n",
    "            }, ignore_index=True)\n",
    "\n",
    "#make numeric so we can sort\n",
    "df_pop.population = pd.to_numeric(df_pop.population)           \n",
    "            \n",
    "#sort on population, dropping older years\n",
    "df_pop.sort_values(['population','year'], ascending = False).drop_duplicates('country', keep = 'first').head(10)\n"
   ]
  },
  {
   "cell_type": "markdown",
   "metadata": {},
   "source": [
    "## Number 3"
   ]
  },
  {
   "cell_type": "code",
   "execution_count": 37,
   "metadata": {
    "collapsed": false
   },
   "outputs": [
    {
     "data": {
      "text/html": [
       "<div>\n",
       "<table border=\"1\" class=\"dataframe\">\n",
       "  <thead>\n",
       "    <tr style=\"text-align: right;\">\n",
       "      <th></th>\n",
       "      <th>country</th>\n",
       "      <th>population</th>\n",
       "      <th>year</th>\n",
       "      <th>group</th>\n",
       "      <th>percent_of_pop</th>\n",
       "      <th>size_of_group</th>\n",
       "    </tr>\n",
       "  </thead>\n",
       "  <tbody>\n",
       "    <tr>\n",
       "      <th>5791</th>\n",
       "      <td>China</td>\n",
       "      <td>1360720000</td>\n",
       "      <td>2013</td>\n",
       "      <td>Han Chinese</td>\n",
       "      <td>91.50</td>\n",
       "      <td>1.245059e+09</td>\n",
       "    </tr>\n",
       "    <tr>\n",
       "      <th>5782</th>\n",
       "      <td>India</td>\n",
       "      <td>1210854977</td>\n",
       "      <td>2011</td>\n",
       "      <td>Indo-Aryan</td>\n",
       "      <td>72.00</td>\n",
       "      <td>8.718156e+08</td>\n",
       "    </tr>\n",
       "    <tr>\n",
       "      <th>5744</th>\n",
       "      <td>United States</td>\n",
       "      <td>318857056</td>\n",
       "      <td>2014</td>\n",
       "      <td>European</td>\n",
       "      <td>79.96</td>\n",
       "      <td>2.549581e+08</td>\n",
       "    </tr>\n",
       "    <tr>\n",
       "      <th>5520</th>\n",
       "      <td>Nigeria</td>\n",
       "      <td>164294516</td>\n",
       "      <td>2011</td>\n",
       "      <td>African</td>\n",
       "      <td>99.00</td>\n",
       "      <td>1.626516e+08</td>\n",
       "    </tr>\n",
       "    <tr>\n",
       "      <th>5431</th>\n",
       "      <td>Bangladesh</td>\n",
       "      <td>149772364</td>\n",
       "      <td>2011</td>\n",
       "      <td>Bengali</td>\n",
       "      <td>98.00</td>\n",
       "      <td>1.467769e+08</td>\n",
       "    </tr>\n",
       "    <tr>\n",
       "      <th>5661</th>\n",
       "      <td>Japan</td>\n",
       "      <td>128057352</td>\n",
       "      <td>2010</td>\n",
       "      <td>Japanese</td>\n",
       "      <td>99.40</td>\n",
       "      <td>1.272890e+08</td>\n",
       "    </tr>\n",
       "    <tr>\n",
       "      <th>5707</th>\n",
       "      <td>Russia</td>\n",
       "      <td>148178487</td>\n",
       "      <td>1997</td>\n",
       "      <td>Russian</td>\n",
       "      <td>79.80</td>\n",
       "      <td>1.182464e+08</td>\n",
       "    </tr>\n",
       "    <tr>\n",
       "      <th>5648</th>\n",
       "      <td>Indonesia</td>\n",
       "      <td>252124458</td>\n",
       "      <td>2014</td>\n",
       "      <td>Javanese</td>\n",
       "      <td>45.00</td>\n",
       "      <td>1.134560e+08</td>\n",
       "    </tr>\n",
       "    <tr>\n",
       "      <th>5605</th>\n",
       "      <td>Brazil</td>\n",
       "      <td>202768562</td>\n",
       "      <td>2014</td>\n",
       "      <td>European</td>\n",
       "      <td>53.70</td>\n",
       "      <td>1.088867e+08</td>\n",
       "    </tr>\n",
       "    <tr>\n",
       "      <th>2411</th>\n",
       "      <td>Philippines</td>\n",
       "      <td>92337852</td>\n",
       "      <td>2007</td>\n",
       "      <td>Malay</td>\n",
       "      <td>95.50</td>\n",
       "      <td>8.818265e+07</td>\n",
       "    </tr>\n",
       "  </tbody>\n",
       "</table>\n",
       "</div>"
      ],
      "text/plain": [
       "            country  population  year        group  percent_of_pop  \\\n",
       "5791          China  1360720000  2013  Han Chinese           91.50   \n",
       "5782          India  1210854977  2011   Indo-Aryan           72.00   \n",
       "5744  United States   318857056  2014     European           79.96   \n",
       "5520        Nigeria   164294516  2011      African           99.00   \n",
       "5431     Bangladesh   149772364  2011      Bengali           98.00   \n",
       "5661          Japan   128057352  2010     Japanese           99.40   \n",
       "5707         Russia   148178487  1997      Russian           79.80   \n",
       "5648      Indonesia   252124458  2014     Javanese           45.00   \n",
       "5605         Brazil   202768562  2014     European           53.70   \n",
       "2411    Philippines    92337852  2007        Malay           95.50   \n",
       "\n",
       "      size_of_group  \n",
       "5791   1.245059e+09  \n",
       "5782   8.718156e+08  \n",
       "5744   2.549581e+08  \n",
       "5520   1.626516e+08  \n",
       "5431   1.467769e+08  \n",
       "5661   1.272890e+08  \n",
       "5707   1.182464e+08  \n",
       "5648   1.134560e+08  \n",
       "5605   1.088867e+08  \n",
       "2411   8.818265e+07  "
      ]
     },
     "execution_count": 37,
     "metadata": {},
     "output_type": "execute_result"
    }
   ],
   "source": [
    "doc = ET.parse( 'mondial_database.xml' )\n",
    "# dataframe for fraction of each ethnic group in country\n",
    "df_group = pd.DataFrame(columns=['country', 'group', 'percent_of_pop'])\n",
    "\n",
    "#iterate through countries, and then ethnic groups, pulling info on country, group and percent of population\n",
    "for country in doc.getiterator('country'):\n",
    "    for element in list(country):\n",
    "        if element.tag == 'ethnicgroup':\n",
    "            df_group = df_group.append({\n",
    "                'country': country.find('name').text,\n",
    "                'group': element.text,\n",
    "                'percent_of_pop': element.attrib['percentage']\n",
    "            }, ignore_index=True)\n",
    " \n",
    "            \n",
    "\n",
    "# convert percentage to numeric\n",
    "df_group['percent_of_pop'] = pd.to_numeric(df_group['percent_of_pop'])\n",
    "\n",
    "df_pop = pd.DataFrame(columns=['country', 'population', 'year'])\n",
    "\n",
    "# repeat same process as above, but this time we pull population and year of observation\n",
    "for country in doc.getiterator('country'):\n",
    "    for element in list(country):\n",
    "        if element.tag == 'population':\n",
    "            df_pop = df_pop.append({\n",
    "                'country': country.find('name').text,\n",
    "                'population': element.text,\n",
    "                'year': element.attrib['year']\n",
    "            }, ignore_index=True)\n",
    "            \n",
    "#convert population to numeric so we can perform operation on it\n",
    "df_pop['population'] = pd.to_numeric(df_pop['population'])\n",
    "#sort and merge population and ethnic group on country\n",
    "df_final = df_pop.sort_values('population').merge(df_group, on = 'country')\n",
    "\n",
    "#multiply population by the percentage to get size of ethnic group\n",
    "df_final['size_of_group'] = df_final['percent_of_pop']/100 * df_final['population']\n",
    "            \n",
    "#sort on size of group to get largest 10, drop, all duplicate countries, but keep the first (newest) data\n",
    "df_final.sort_values('size_of_group', ascending = False).drop_duplicates('country',keep='first').head(10)"
   ]
  },
  {
   "cell_type": "code",
   "execution_count": null,
   "metadata": {
    "collapsed": true
   },
   "outputs": [],
   "source": []
  },
  {
   "cell_type": "markdown",
   "metadata": {},
   "source": [
    "## Number 4"
   ]
  },
  {
   "cell_type": "code",
   "execution_count": 6,
   "metadata": {
    "collapsed": false
   },
   "outputs": [
    {
     "name": "stderr",
     "output_type": "stream",
     "text": [
      "/Users/jackdwyer/anaconda/lib/python2.7/site-packages/ipykernel/__main__.py:24: FutureWarning: sort(columns=....) is deprecated, use sort_values(by=.....)\n"
     ]
    },
    {
     "data": {
      "text/html": [
       "<div>\n",
       "<table border=\"1\" class=\"dataframe\">\n",
       "  <thead>\n",
       "    <tr style=\"text-align: right;\">\n",
       "      <th></th>\n",
       "      <th>river</th>\n",
       "      <th>length</th>\n",
       "      <th>countries</th>\n",
       "    </tr>\n",
       "  </thead>\n",
       "  <tbody>\n",
       "    <tr>\n",
       "      <th>174</th>\n",
       "      <td>Amazonas</td>\n",
       "      <td>6448.0</td>\n",
       "      <td>NaN</td>\n",
       "    </tr>\n",
       "  </tbody>\n",
       "</table>\n",
       "</div>"
      ],
      "text/plain": [
       "        river  length countries\n",
       "174  Amazonas  6448.0       NaN"
      ]
     },
     "execution_count": 6,
     "metadata": {},
     "output_type": "execute_result"
    }
   ],
   "source": [
    "doc = ET.parse( 'mondial_database.xml' )\n",
    "\n",
    "# dataframe for relevant info\n",
    "df_elev = pd.DataFrame(columns=[\"river\", \"length\", \"countries\"])\n",
    "\n",
    "#pull all the rivers and length of those river, wanted to pull country code as well, but unsuccesful\n",
    "for river in doc.getiterator(\"river\"):\n",
    "    for element in list(river):\n",
    "        if element.tag == \"length\":\n",
    "            df_elev = df_elev.append({\n",
    "                \"river\": river.find(\"name\").text,\n",
    "                \"length\": element.text\n",
    "            }, ignore_index=True)\n",
    "#trying to pull river, and country code here, to no avail of course\n",
    "        if element.tag == \"country\":\n",
    "            df_elev = df_elev.append({\n",
    "                \"river\": river.find(\"name\").text,\n",
    "                \"countries\": element.attrib['river']\n",
    "            }, ignore_index=True)\n",
    "\n",
    "#Need to convert to numeric so we can sort\n",
    "df_elev.length = pd.to_numeric(df_elev.length)       \n",
    "#show the longest river\n",
    "df_elev.sort('length', ascending = False).head(1)\n",
    "            \n",
    "            \n",
    "           \n",
    "\n",
    "##considered bringing in another df with country data, using river within country and then maybe do a merge\n",
    "##still not working\n",
    "#riv_con = pd.DataFrame(columns=[\"country\",'river'])\n",
    "#for country in doc.getiterator('country'):\n",
    "    #for element in list(country):\n",
    "        #if element.tag == 'located_at':\n",
    "            #riv_con = riv_con.append({\n",
    "                #'country': country.text,\n",
    "                #'river': element.attrib['river']\n",
    "                #'river': element.attrib['river']\n",
    "            #}, ignore_index=True)\n",
    "#riv_con.head()              \n",
    "         \n",
    "            \n",
    "\n",
    "\n",
    "\n",
    "\n",
    "\n"
   ]
  },
  {
   "cell_type": "code",
   "execution_count": 33,
   "metadata": {
    "collapsed": false
   },
   "outputs": [
    {
     "data": {
      "text/html": [
       "<div>\n",
       "<table border=\"1\" class=\"dataframe\">\n",
       "  <thead>\n",
       "    <tr style=\"text-align: right;\">\n",
       "      <th></th>\n",
       "      <th>lake</th>\n",
       "      <th>area</th>\n",
       "      <th>countries</th>\n",
       "    </tr>\n",
       "  </thead>\n",
       "  <tbody>\n",
       "    <tr>\n",
       "      <th>54</th>\n",
       "      <td>Caspian Sea</td>\n",
       "      <td>386400.0</td>\n",
       "      <td>NaN</td>\n",
       "    </tr>\n",
       "  </tbody>\n",
       "</table>\n",
       "</div>"
      ],
      "text/plain": [
       "           lake      area countries\n",
       "54  Caspian Sea  386400.0       NaN"
      ]
     },
     "execution_count": 33,
     "metadata": {},
     "output_type": "execute_result"
    }
   ],
   "source": [
    "doc = ET.parse( 'mondial_database.xml' )\n",
    "\n",
    "# dataframe for relevant info\n",
    "df_lake = pd.DataFrame(columns=[\"lake\", \"area\", \"countries\"])\n",
    "\n",
    "#pull all the lakes and areas of those lakes, wanted to pull country code as well, but unsuccesful\n",
    "for lake in doc.getiterator(\"lake\"):\n",
    "    for element in list(lake):\n",
    "         if element.tag == 'country':\n",
    "            df_lake = df_lake.append({\n",
    "                \"countries\": element.text\n",
    "            },ignore_index = True)\n",
    "        if element.tag == \"area\":\n",
    "            df_lake = df_lake.append({\n",
    "                \"lake\": lake.find(\"name\").text,\n",
    "                \"area\": element.text\n",
    "            }, ignore_index=True)\n",
    "\n",
    "\n",
    "#convert area to numeric so we can sort easily\n",
    "df_lake['area'] = pd.to_numeric(df_lake['area'])\n",
    "\n",
    "#show most expansive lake\n",
    "df_lake.sort_values('area', ascending=False).head(1)\n",
    "\n",
    "\n",
    "#If the caspian is a lake, then Everest is a hill\n",
    "\n"
   ]
  },
  {
   "cell_type": "code",
   "execution_count": 8,
   "metadata": {
    "collapsed": false
   },
   "outputs": [
    {
     "data": {
      "text/html": [
       "<div>\n",
       "<table border=\"1\" class=\"dataframe\">\n",
       "  <thead>\n",
       "    <tr style=\"text-align: right;\">\n",
       "      <th></th>\n",
       "      <th>airport</th>\n",
       "      <th>elevation</th>\n",
       "      <th>countries</th>\n",
       "    </tr>\n",
       "  </thead>\n",
       "  <tbody>\n",
       "    <tr>\n",
       "      <th>80</th>\n",
       "      <td>El Alto Intl</td>\n",
       "      <td>4063.0</td>\n",
       "      <td>NaN</td>\n",
       "    </tr>\n",
       "  </tbody>\n",
       "</table>\n",
       "</div>"
      ],
      "text/plain": [
       "         airport  elevation countries\n",
       "80  El Alto Intl     4063.0       NaN"
      ]
     },
     "execution_count": 8,
     "metadata": {},
     "output_type": "execute_result"
    }
   ],
   "source": [
    "doc = ET.parse( 'mondial_database.xml' )\n",
    "\n",
    "# dataframe made to hold all the relevant info we're pulling\n",
    "df_air = pd.DataFrame(columns=[\"airport\", \"elevation\", \"countries\"])\n",
    "\n",
    "#pull all the airports and elevations of those airports, wanted to pull country code as well, but unsuccesful\n",
    "for airport in doc.getiterator(\"airport\"):\n",
    "    for element in list(airport):\n",
    "        if element.tag == 'country':\n",
    "            df_air = df_air.append({\n",
    "                \"countries\": element.text\n",
    "            },ignore_index = True)\n",
    "        if element.tag == \"elevation\":\n",
    "            df_air = df_air.append({\n",
    "                \"airport\": airport.find(\"name\").text,\n",
    "                \"elevation\": element.text\n",
    "            }, ignore_index=True)\n",
    "\n",
    "#convert elevation to numeric so we can sort\n",
    "df_air['elevation'] = pd.to_numeric(df_air['elevation'])\n",
    "#show highest airport\n",
    "df_air.sort_values('elevation', ascending = False).head(1)\n"
   ]
  },
  {
   "cell_type": "code",
   "execution_count": null,
   "metadata": {
    "collapsed": true
   },
   "outputs": [],
   "source": []
  }
 ],
 "metadata": {
  "kernelspec": {
   "display_name": "Python 2",
   "language": "python",
   "name": "python2"
  },
  "language_info": {
   "codemirror_mode": {
    "name": "ipython",
    "version": 2
   },
   "file_extension": ".py",
   "mimetype": "text/x-python",
   "name": "python",
   "nbconvert_exporter": "python",
   "pygments_lexer": "ipython2",
   "version": "2.7.13"
  }
 },
 "nbformat": 4,
 "nbformat_minor": 0
}
