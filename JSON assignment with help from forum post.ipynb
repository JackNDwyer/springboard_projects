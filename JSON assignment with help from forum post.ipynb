{
 "cells": [
  {
   "cell_type": "code",
   "execution_count": 2,
   "metadata": {
    "collapsed": false
   },
   "outputs": [
    {
     "name": "stdout",
     "output_type": "stream",
     "text": [
      "Populating the interactive namespace from numpy and matplotlib\n"
     ]
    }
   ],
   "source": [
    "import pandas as pd\n",
    "import numpy as np\n",
    "import json\n",
    "from pandas.io.json import json_normalize\n",
    "\n",
    "%pylab inline"
   ]
  },
  {
   "cell_type": "markdown",
   "metadata": {},
   "source": [
    "# Number 1"
   ]
  },
  {
   "cell_type": "code",
   "execution_count": null,
   "metadata": {
    "collapsed": false
   },
   "outputs": [],
   "source": [
    "#load in via pandas\n",
    "wbp = pd.read_json('world_bank_projects.json', orient = 'table')\n",
    "wbpl = pd.read_json('world_bank_projects_less.json', orient = 'table')\n"
   ]
  },
  {
   "cell_type": "code",
   "execution_count": null,
   "metadata": {
    "collapsed": false
   },
   "outputs": [],
   "source": [
    "#bring together the two Df's\n",
    "wbp2 = wbp.append(wbpl)\n",
    "wbp2[['mjtheme','id']]\n",
    "\n",
    "data = json.loads(wbp2)\n",
    "json_normalize(wbp2['mjtheme'])\n",
    "\n",
    "#I used .info(), .describe(), and .head() but removed them for brevity/polish"
   ]
  },
  {
   "cell_type": "code",
   "execution_count": null,
   "metadata": {
    "collapsed": false
   },
   "outputs": [],
   "source": [
    "#groupby country code, then find the size of each amalgamation, then sort\n",
    "wbp2.groupby('countrycode').size().sort_values(ascending = False).head(10)"
   ]
  },
  {
   "cell_type": "markdown",
   "metadata": {},
   "source": [
    "# Number 2"
   ]
  },
  {
   "cell_type": "code",
   "execution_count": 12,
   "metadata": {
    "collapsed": false
   },
   "outputs": [
    {
     "data": {
      "text/html": [
       "<div>\n",
       "<table border=\"1\" class=\"dataframe\">\n",
       "  <thead>\n",
       "    <tr style=\"text-align: right;\">\n",
       "      <th></th>\n",
       "      <th>code</th>\n",
       "      <th>name</th>\n",
       "      <th>id</th>\n",
       "    </tr>\n",
       "  </thead>\n",
       "  <tbody>\n",
       "    <tr>\n",
       "      <th>0</th>\n",
       "      <td>8</td>\n",
       "      <td>Human development</td>\n",
       "      <td>P129828</td>\n",
       "    </tr>\n",
       "    <tr>\n",
       "      <th>1</th>\n",
       "      <td>11</td>\n",
       "      <td></td>\n",
       "      <td>P129828</td>\n",
       "    </tr>\n",
       "    <tr>\n",
       "      <th>2</th>\n",
       "      <td>1</td>\n",
       "      <td>Economic management</td>\n",
       "      <td>P144674</td>\n",
       "    </tr>\n",
       "    <tr>\n",
       "      <th>3</th>\n",
       "      <td>6</td>\n",
       "      <td>Social protection and risk management</td>\n",
       "      <td>P144674</td>\n",
       "    </tr>\n",
       "    <tr>\n",
       "      <th>4</th>\n",
       "      <td>5</td>\n",
       "      <td>Trade and integration</td>\n",
       "      <td>P145310</td>\n",
       "    </tr>\n",
       "  </tbody>\n",
       "</table>\n",
       "</div>"
      ],
      "text/plain": [
       "  code                                   name       id\n",
       "0    8                      Human development  P129828\n",
       "1   11                                         P129828\n",
       "2    1                    Economic management  P144674\n",
       "3    6  Social protection and risk management  P144674\n",
       "4    5                  Trade and integration  P145310"
      ]
     },
     "execution_count": 12,
     "metadata": {},
     "output_type": "execute_result"
    }
   ],
   "source": [
    "#after near infinite hours, decided to bring in using json and normalize\n",
    "with open('world_bank_projects.json') as j:\n",
    "    f1 = json.load(j)\n",
    "df1 = json_normalize(f1, 'mjtheme_namecode',['id'])\n",
    "\n",
    "\n",
    "with open('world_bank_projects_less.json') as j:\n",
    "    f2 = json.load(j)\n",
    "#normalize using the column we need to measure (ID as well so we can merge on it later)\n",
    "df2 = json_normalize(f2, 'mjtheme_namecode',['id'])\n",
    "#concatenate them together\n",
    "df = df1.append(df2)\n",
    "df.head()"
   ]
  },
  {
   "cell_type": "code",
   "execution_count": 13,
   "metadata": {
    "collapsed": false
   },
   "outputs": [
    {
     "data": {
      "text/plain": [
       "code\n",
       "11    251\n",
       "10    216\n",
       "8     211\n",
       "2     199\n",
       "6     169\n",
       "4     146\n",
       "7     130\n",
       "5      77\n",
       "9      50\n",
       "1      39\n",
       "3      15\n",
       "dtype: int64"
      ]
     },
     "execution_count": 13,
     "metadata": {},
     "output_type": "execute_result"
    }
   ],
   "source": [
    "#groupby code and sort to find which codes are most used\n",
    "df.groupby('code').size().sort_values(ascending = False)"
   ]
  },
  {
   "cell_type": "markdown",
   "metadata": {},
   "source": [
    "# Number 3\n"
   ]
  },
  {
   "cell_type": "markdown",
   "metadata": {},
   "source": [
    "My plan was to bring in the names from the mjtheme column and join on ID with the mjtheme_namecode-containing table, but it is not working. I tried both bringing the json in and normalizing, and pd.read_json and splitting the lists that are contained within the various cells. I spent a good 6 hours trying various approaches, only to met with various errors that I could not figure out. Stackoverflow and I got really close, as did the forums on springboard. One of the mentors posted similar code to that shown below as a help for people in a similar situation to me."
   ]
  },
  {
   "cell_type": "code",
   "execution_count": 19,
   "metadata": {
    "collapsed": false
   },
   "outputs": [
    {
     "name": "stdout",
     "output_type": "stream",
     "text": [
      "Top 10 Major World Bank Project Themes:\n",
      "Environment and natural resources management    223\n",
      "Rural development                               202\n",
      "Human development                               198\n",
      "Public sector governance                        184\n",
      "Social protection and risk management           159\n",
      "Financial and private sector development        130\n",
      "                                                123\n",
      "Social dev/gender/inclusion                     119\n",
      "Trade and integration                            72\n",
      "Urban development                                47\n",
      "Name: name, dtype: int64\n",
      "     code               name       id         name_clean\n",
      "0       8  Human development  P129828  Human development\n",
      "17      8                     P127033  Human development\n",
      "41      8  Human development  P132616  Human development\n",
      "43      8  Human development  P146271  Human development\n",
      "44      8  Human development  P146271  Human development\n",
      "47      8  Human development  P146271  Human development\n",
      "57      8  Human development  P146109  Human development\n",
      "58      8  Human development  P146109  Human development\n",
      "69      8  Human development  P143025  Human development\n",
      "79      8  Human development  P122700  Human development\n",
      "91      8  Human development  P145118  Human development\n",
      "113     8  Human development  P128628  Human development\n",
      "117     8                     P098847  Human development\n",
      "120     8  Human development  P125018  Human development\n",
      "146     8  Human development  P132753  Human development\n",
      "147     8  Human development  P132753  Human development\n",
      "148     8  Human development  P132753  Human development\n",
      "186     8  Human development  P131202  Human development\n",
      "190     8  Human development  P126130  Human development\n",
      "191     8  Human development  P126130  Human development\n",
      "192     8  Human development  P126130  Human development\n",
      "206     8  Human development  P126034  Human development\n",
      "228     8  Human development  P131212  Human development\n",
      "229     8  Human development  P131441  Human development\n",
      "237     8  Human development  P144532  Human development\n",
      "238     8  Human development  P144532  Human development\n",
      "239     8  Human development  P123503  Human development\n",
      "240     8                     P123503  Human development\n",
      "245     8  Human development  P120397  Human development\n",
      "278     8  Human development  P143060  Human development\n",
      "...   ...                ...      ...                ...\n",
      "1102    9  Urban development  P130972  Urban development\n",
      "1103    9  Urban development  P130972  Urban development\n",
      "1104    9  Urban development  P130972  Urban development\n",
      "1166    9  Urban development  P101289  Urban development\n",
      "1290    9  Urban development  P118152  Urban development\n",
      "1303    9  Urban development  P130528  Urban development\n",
      "1318    9  Urban development  P130461  Urban development\n",
      "1342    9  Urban development  P130174  Urban development\n",
      "1347    9  Urban development  P131394  Urban development\n",
      "1425    9  Urban development  P112901  Urban development\n",
      "1426    9  Urban development  P112901  Urban development\n",
      "1428    9  Urban development  P118916  Urban development\n",
      "1470    9  Urban development  P128763  Urban development\n",
      "1473    9  Urban development  P128763  Urban development\n",
      "1495    9  Urban development  P126321  Urban development\n",
      "252     3        Rule of law  P128443        Rule of law\n",
      "359     3        Rule of law  P130459        Rule of law\n",
      "415     3        Rule of law  P127787        Rule of law\n",
      "493     3                     P131640        Rule of law\n",
      "508     3        Rule of law  P144386        Rule of law\n",
      "509     3        Rule of law  P144386        Rule of law\n",
      "691     3                     P145095        Rule of law\n",
      "789     3        Rule of law  P121152        Rule of law\n",
      "1029    3                     P129332        Rule of law\n",
      "1209    3        Rule of law  P105269        Rule of law\n",
      "1287    3        Rule of law  P128950        Rule of law\n",
      "1302    3        Rule of law  P130528        Rule of law\n",
      "1316    3        Rule of law  P131767        Rule of law\n",
      "1411    3        Rule of law  P125202        Rule of law\n",
      "1434    3        Rule of law  P131266        Rule of law\n",
      "\n",
      "[1503 rows x 4 columns]\n"
     ]
    }
   ],
   "source": [
    "#Use pandas to bring in a messy version with all the information\n",
    "df0 = pd.read_json('world_bank_projects.json')\n",
    "df1 = pd.read_json('world_bank_projects_less.json')\n",
    "\n",
    "#bring in a JSON that can be refined to have the information we are particularly interested in\n",
    "with open('world_bank_projects.json') as f:    \n",
    "    raw = json.load(f)\n",
    "with open('world_bank_projects_less.json') as f:    \n",
    "    raw1 = json.load(f)\n",
    "\n",
    "#We know ID will help us join the correct names later on\n",
    "df_themes0 = json_normalize(raw, 'mjtheme_namecode', ['id'])\n",
    "df_themes1 = json_normalize(raw1, 'mjtheme_namecode', ['id'])\n",
    "\n",
    "df_themes = df_themes0.append(df_themes1)\n",
    "df = df0.append(df1)\n",
    "\n",
    "# Here we see a number of projects with multiple codes, meaning the project spans many themes\n",
    "df_themes.groupby('id').code.nunique().sort_values(ascending=False).head(10)\n",
    "\n",
    "# Addtionally we have the problems of a missing theme name. I was able to get this far, but then I was quickly derailed\n",
    "print 'Top 10 Major World Bank Project Themes:'\n",
    "print (df_themes.name.value_counts().head(10))\n",
    "\n",
    "# The holy grail (at least in my tired opinion)\n",
    "df_themes_name_to_code = df_themes.groupby('name').code.max().sort_values(ascending=False)\n",
    "\n",
    "# drop the missing name rows\n",
    "df_themes_name_to_code = df_themes_name_to_code[df_themes_name_to_code.index != '']\n",
    "\n",
    "# convert to df\n",
    "df_themes_name_to_code = pd.DataFrame(df_themes_name_to_code,columns=['code'])\n",
    "\n",
    "# pull name into a column\n",
    "df_themes_name_to_code['name_clean'] = df_themes_name_to_code.index\n",
    "\n",
    "# set code to be the index\n",
    "df_themes_code_to_name = df_themes_name_to_code.set_index(['code'])\n",
    "\n",
    "\n",
    "# now merge on the name based on the code for the missing projects\n",
    "\n",
    "df_themes_clean = df_themes.merge(df_themes_code_to_name,how='outer',left_on=['code'],right_index=True)\n",
    "\n",
    "df_final = df_themes_clean.drop('name')\n",
    "\n",
    "#drop is no cooperating?\n",
    "print(df_final)\n",
    "\n"
   ]
  }
 ],
 "metadata": {
  "kernelspec": {
   "display_name": "Python 2",
   "language": "python",
   "name": "python2"
  },
  "language_info": {
   "codemirror_mode": {
    "name": "ipython",
    "version": 2
   },
   "file_extension": ".py",
   "mimetype": "text/x-python",
   "name": "python",
   "nbconvert_exporter": "python",
   "pygments_lexer": "ipython2",
   "version": "2.7.13"
  }
 },
 "nbformat": 4,
 "nbformat_minor": 2
}
